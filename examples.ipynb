{
 "cells": [
  {
   "cell_type": "markdown",
   "metadata": {},
   "source": [
    "# Mastermind Examples"
   ]
  },
  {
   "cell_type": "markdown",
   "metadata": {},
   "source": [
    "This notebook contains examples of using the various classes and functions for the Mastermind project."
   ]
  },
  {
   "cell_type": "code",
   "execution_count": 9,
   "metadata": {},
   "outputs": [],
   "source": [
    "from mastermind import *\n",
    "from scsa import *\n",
    "from player import *\n",
    "import time"
   ]
  },
  {
   "cell_type": "markdown",
   "metadata": {},
   "source": [
    "## Playing a Tournament"
   ]
  },
  {
   "cell_type": "code",
   "execution_count": 10,
   "metadata": {},
   "outputs": [
    {
     "name": "stdout",
     "output_type": "stream",
     "text": [
      "Player: RandomFolks\n",
      "SCSA Name: InsertColors\n",
      "Game: 4 Pegs 6 Colors\n",
      "Rounds: 100 out of 100\n",
      "Results: {Wins: 6, Losses: 94, Failures: 0, Score: 147.05528184029237}\n"
     ]
    }
   ],
   "source": [
    "board_length = 4  # Number of pegs\n",
    "num_colors = 6  # Number of colors\n",
    "colors = [chr(i) for i in range(65, 91)][\n",
    "    :num_colors\n",
    "]  # Retrieves first num_colors from list of all colors\n",
    "player = RandomFolks()\n",
    "scsa = InsertColors()\n",
    "num_rounds = 100\n",
    "\n",
    "mastermind = Mastermind(board_length, colors)\n",
    "\n",
    "mastermind.play_tournament(player, scsa, num_rounds)"
   ]
  },
  {
   "cell_type": "markdown",
   "metadata": {},
   "source": [
    "## Playing a Single Round"
   ]
  },
  {
   "cell_type": "markdown",
   "metadata": {},
   "source": [
    "### Using the Play Tournament Function"
   ]
  },
  {
   "cell_type": "code",
   "execution_count": 11,
   "metadata": {},
   "outputs": [
    {
     "name": "stdout",
     "output_type": "stream",
     "text": [
      "Player: Boring\n",
      "SCSA Name: InsertColors\n",
      "Game: 4 Pegs 6 Colors\n",
      "Rounds: 1 out of 1\n",
      "Results: {Wins: 0, Losses: 1, Failures: 0, Score: 0}\n"
     ]
    }
   ],
   "source": [
    "board_length = 4\n",
    "num_colors = 6\n",
    "colors = [chr(i) for i in range(65, 91)][\n",
    "    :num_colors\n",
    "]  # Retrieves first num_colors from list of all colors\n",
    "player = Boring()\n",
    "scsa = InsertColors()\n",
    "num_rounds = 1\n",
    "\n",
    "mastermind = Mastermind(board_length, colors)\n",
    "mastermind.play_tournament(player, scsa, num_rounds)"
   ]
  },
  {
   "cell_type": "markdown",
   "metadata": {},
   "source": [
    "### Using the Round Class"
   ]
  },
  {
   "cell_type": "code",
   "execution_count": 12,
   "metadata": {},
   "outputs": [
    {
     "name": "stdout",
     "output_type": "stream",
     "text": [
      "Result: Result.LOSS Guesses: 100\n"
     ]
    }
   ],
   "source": [
    "board_length = 4\n",
    "num_colors = 6\n",
    "colors = [chr(i) for i in range(65, 91)][\n",
    "    :num_colors\n",
    "]  # Retrieves first num_colors from list of all colors\n",
    "player = RandomFolks()\n",
    "scsa_name = \"InsertColors\"\n",
    "\n",
    "mastermind = Mastermind(board_length, colors)\n",
    "\n",
    "code = \"ADCB\"  # User chosen secret code\n",
    "# code = scsa.generate_code(board_length, colors, num_codes = 1)[0] #Extracted generated code\n",
    "\n",
    "round = Round(board_length, colors, code, scsa_name)\n",
    "\n",
    "result, guesses = round.play_round(player)\n",
    "\n",
    "print(\"Result:\", result, \"Guesses:\", guesses)"
   ]
  },
  {
   "cell_type": "markdown",
   "metadata": {},
   "source": [
    "## Making a Single Guess"
   ]
  },
  {
   "cell_type": "code",
   "execution_count": 13,
   "metadata": {},
   "outputs": [
    {
     "name": "stdout",
     "output_type": "stream",
     "text": [
      "Guess: FEEE | Time: 4.696846008300781e-05\n"
     ]
    }
   ],
   "source": [
    "board_length = 4\n",
    "num_colors = 6\n",
    "colors = [chr(i) for i in range(65, 91)][\n",
    "    :num_colors\n",
    "]  # Retrieves first num_colors from list of all colors\n",
    "player = RandomFolks()\n",
    "scsa = \"InsertColors\"\n",
    "\n",
    "response = (0, 0, 0)  # Default response since the player hasn't made a guess yet\n",
    "\n",
    "start = time.time()\n",
    "guess = player.make_guess(board_length, colors, scsa_name, response)\n",
    "end = time.time()\n",
    "\n",
    "duration = end - start\n",
    "\n",
    "print(\"Guess:\", guess, \"|\", \"Time:\", duration)"
   ]
  },
  {
   "cell_type": "markdown",
   "metadata": {},
   "source": [
    "## Sampling, Saving, and Reading Codes"
   ]
  },
  {
   "cell_type": "markdown",
   "metadata": {},
   "source": [
    "### Generating Samples"
   ]
  },
  {
   "cell_type": "code",
   "execution_count": 14,
   "metadata": {},
   "outputs": [
    {
     "name": "stdout",
     "output_type": "stream",
     "text": [
      "['ACBD', 'CEAE', 'EBBF', 'CEDD', 'FDBC', 'CFDE', 'AEFE', 'CCBC', 'FDBA', 'BCAC']\n"
     ]
    }
   ],
   "source": [
    "board_length = 4\n",
    "num_colors = 6\n",
    "colors = [chr(i) for i in range(65, 91)][\n",
    "    :num_colors\n",
    "]  # Retrieves first num_colors from list of all colors\n",
    "scsa = InsertColors()\n",
    "\n",
    "codes = scsa.generate_codes(board_length, colors, num_codes=10)\n",
    "\n",
    "print(codes)"
   ]
  },
  {
   "cell_type": "markdown",
   "metadata": {},
   "source": [
    "### Writing Samples to a File"
   ]
  },
  {
   "cell_type": "code",
   "execution_count": 15,
   "metadata": {},
   "outputs": [],
   "source": [
    "board_length = 4\n",
    "num_colors = 6\n",
    "colors = [chr(i) for i in range(65, 91)][\n",
    "    :num_colors\n",
    "]  # Retrieves first num_colors from list of all colors\n",
    "scsa = PreferFewer()\n",
    "\n",
    "# This function will generate codes and write them to a file for the SCSA.\n",
    "# You can find this file in the directory that this notebook is stored in.\n",
    "scsa.generate_and_write_to_file(board_length, colors, num_codes=200)"
   ]
  },
  {
   "cell_type": "markdown",
   "metadata": {},
   "source": [
    "### Reading from a File"
   ]
  },
  {
   "cell_type": "markdown",
   "metadata": {},
   "source": [
    "The simplest way to read codes from a file and try your player on them is using the practice tournament function for an instance of Mastermind. Let us use the code file from the previous example."
   ]
  },
  {
   "cell_type": "code",
   "execution_count": 16,
   "metadata": {},
   "outputs": [
    {
     "ename": "FileNotFoundError",
     "evalue": "[Errno 2] No such file or directory: 'PreferFewer_4_6.txt'",
     "output_type": "error",
     "traceback": [
      "\u001b[0;31m---------------------------------------------------------------------------\u001b[0m",
      "\u001b[0;31mFileNotFoundError\u001b[0m                         Traceback (most recent call last)",
      "Cell \u001b[0;32mIn[16], line 12\u001b[0m\n\u001b[1;32m      8\u001b[0m code_file \u001b[38;5;241m=\u001b[39m \u001b[38;5;124m\"\u001b[39m\u001b[38;5;124mPreferFewer_4_6.txt\u001b[39m\u001b[38;5;124m\"\u001b[39m\n\u001b[1;32m     10\u001b[0m mastermind \u001b[38;5;241m=\u001b[39m Mastermind(board_length, colors)\n\u001b[0;32m---> 12\u001b[0m \u001b[43mmastermind\u001b[49m\u001b[38;5;241;43m.\u001b[39;49m\u001b[43mpractice_tournament\u001b[49m\u001b[43m(\u001b[49m\u001b[43mplayer\u001b[49m\u001b[43m,\u001b[49m\u001b[43m \u001b[49m\u001b[43mscsa_name\u001b[49m\u001b[43m,\u001b[49m\u001b[43m \u001b[49m\u001b[43mcode_file\u001b[49m\u001b[43m)\u001b[49m\n",
      "File \u001b[0;32m~/Downloads/STUDENT_mastermind CSCI 350 Fall 2024/mastermind.py:409\u001b[0m, in \u001b[0;36mMastermind.practice_tournament\u001b[0;34m(self, player, scsa_name, code_file)\u001b[0m\n\u001b[1;32m    398\u001b[0m \u001b[38;5;28;01mdef\u001b[39;00m \u001b[38;5;21mpractice_tournament\u001b[39m(\n\u001b[1;32m    399\u001b[0m     \u001b[38;5;28mself\u001b[39m, player: Player, scsa_name: \u001b[38;5;28mstr\u001b[39m, code_file: \u001b[38;5;28mstr\u001b[39m\n\u001b[1;32m    400\u001b[0m ) \u001b[38;5;241m-\u001b[39m\u001b[38;5;241m>\u001b[39m \u001b[38;5;28;01mNone\u001b[39;00m:\n\u001b[1;32m    401\u001b[0m \u001b[38;5;250m    \u001b[39m\u001b[38;5;124;03m\"\"\"Plays a tournament of Mastermind using pregenerated codes from file\u001b[39;00m\n\u001b[1;32m    402\u001b[0m \n\u001b[1;32m    403\u001b[0m \u001b[38;5;124;03m    Args:\u001b[39;00m\n\u001b[0;32m   (...)\u001b[0m\n\u001b[1;32m    406\u001b[0m \u001b[38;5;124;03m        code_file (str): Name of file to read secret codes from.\u001b[39;00m\n\u001b[1;32m    407\u001b[0m \u001b[38;5;124;03m    \"\"\"\u001b[39;00m\n\u001b[0;32m--> 409\u001b[0m     codes \u001b[38;5;241m=\u001b[39m \u001b[43mread_from_file\u001b[49m\u001b[43m(\u001b[49m\u001b[43mcode_file\u001b[49m\u001b[43m)\u001b[49m\n\u001b[1;32m    410\u001b[0m     num_rounds \u001b[38;5;241m=\u001b[39m \u001b[38;5;28mlen\u001b[39m(codes)\n\u001b[1;32m    411\u001b[0m     results \u001b[38;5;241m=\u001b[39m Results()\n",
      "File \u001b[0;32m~/Downloads/STUDENT_mastermind CSCI 350 Fall 2024/scsa.py:33\u001b[0m, in \u001b[0;36mread_from_file\u001b[0;34m(file_name)\u001b[0m\n\u001b[1;32m     22\u001b[0m \u001b[38;5;250m\u001b[39m\u001b[38;5;124;03m\"\"\"Reads codes from file\u001b[39;00m\n\u001b[1;32m     23\u001b[0m \n\u001b[1;32m     24\u001b[0m \u001b[38;5;124;03mArgs:\u001b[39;00m\n\u001b[0;32m   (...)\u001b[0m\n\u001b[1;32m     28\u001b[0m \u001b[38;5;124;03m    list[str]: Returns list of codes read from specified file.\u001b[39;00m\n\u001b[1;32m     29\u001b[0m \u001b[38;5;124;03m\"\"\"\u001b[39;00m\n\u001b[1;32m     31\u001b[0m codes \u001b[38;5;241m=\u001b[39m []\n\u001b[0;32m---> 33\u001b[0m file \u001b[38;5;241m=\u001b[39m \u001b[38;5;28;43mopen\u001b[39;49m\u001b[43m(\u001b[49m\u001b[43mfile_name\u001b[49m\u001b[43m,\u001b[49m\u001b[43m \u001b[49m\u001b[38;5;124;43m\"\u001b[39;49m\u001b[38;5;124;43mr\u001b[39;49m\u001b[38;5;124;43m\"\u001b[39;49m\u001b[43m)\u001b[49m\n\u001b[1;32m     35\u001b[0m lines \u001b[38;5;241m=\u001b[39m file\u001b[38;5;241m.\u001b[39mreadlines()\n\u001b[1;32m     37\u001b[0m \u001b[38;5;28;01mfor\u001b[39;00m l \u001b[38;5;129;01min\u001b[39;00m lines:\n",
      "\u001b[0;31mFileNotFoundError\u001b[0m: [Errno 2] No such file or directory: 'PreferFewer_4_6.txt'"
     ]
    }
   ],
   "source": [
    "board_length = 4  # Number of pegs\n",
    "num_colors = 6  # Number of colors\n",
    "colors = [chr(i) for i in range(65, 91)][\n",
    "    :num_colors\n",
    "]  # Retrieves first num_colors from list of all colors\n",
    "player = RandomFolks()\n",
    "scsa_name = \"PreferFewer\"\n",
    "code_file = \"PreferFewer_4_6.txt\"\n",
    "\n",
    "mastermind = Mastermind(board_length, colors)\n",
    "\n",
    "mastermind.practice_tournament(player, scsa_name, code_file)"
   ]
  },
  {
   "cell_type": "markdown",
   "metadata": {},
   "source": [
    "## Changing Time and Guess Limits"
   ]
  },
  {
   "cell_type": "markdown",
   "metadata": {},
   "source": [
    "You can change the guess limit and time limit for a round, and the time limit for a tournament."
   ]
  },
  {
   "cell_type": "code",
   "execution_count": null,
   "metadata": {},
   "outputs": [],
   "source": [
    "board_length = 4  # Number of pegs\n",
    "num_colors = 6  # Number of colors\n",
    "colors = [chr(i) for i in range(65, 91)][\n",
    "    :num_colors\n",
    "]  # Retrieves first num_colors from list of all colors\n",
    "player = RandomFolks()\n",
    "scsa = InsertColors()\n",
    "num_rounds = 100\n",
    "guess_cutoff = 250  # Default is 100 guesses\n",
    "round_time_cutoff = 10  # Default is 5 seconds\n",
    "tournament_time_cutoff = 1000  # Default is 300 seconds\n",
    "\n",
    "mastermind = Mastermind(\n",
    "    board_length, colors, guess_cutoff, round_time_cutoff, tournament_time_cutoff\n",
    ")\n",
    "\n",
    "mastermind.play_tournament(player, scsa, num_rounds)"
   ]
  }
 ],
 "metadata": {
  "kernelspec": {
   "display_name": "Python 3",
   "language": "python",
   "name": "python3"
  },
  "language_info": {
   "codemirror_mode": {
    "name": "ipython",
    "version": 3
   },
   "file_extension": ".py",
   "mimetype": "text/x-python",
   "name": "python",
   "nbconvert_exporter": "python",
   "pygments_lexer": "ipython3",
   "version": "3.10.7"
  }
 },
 "nbformat": 4,
 "nbformat_minor": 4
}
